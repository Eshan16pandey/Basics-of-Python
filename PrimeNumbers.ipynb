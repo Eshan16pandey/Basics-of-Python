{
  "nbformat": 4,
  "nbformat_minor": 0,
  "metadata": {
    "colab": {
      "provenance": []
    },
    "kernelspec": {
      "name": "python3",
      "display_name": "Python 3"
    },
    "language_info": {
      "name": "python"
    }
  },
  "cells": [
    {
      "cell_type": "code",
      "execution_count": 4,
      "metadata": {
        "colab": {
          "base_uri": "https://localhost:8080/"
        },
        "id": "crKFHQpCmTZ4",
        "outputId": "e0edb6df-fef2-4100-8a24-e01eae84cfb1"
      },
      "outputs": [
        {
          "output_type": "stream",
          "name": "stdout",
          "text": [
            "Enter a number: 2\n",
            "2 is a prime number.\n"
          ]
        }
      ],
      "source": [
        "def is_prime(n):\n",
        "    # Check if the number is less than or equal to 1\n",
        "    if n <= 1:\n",
        "        return False\n",
        "    # Check if the number is 2, which is a prime number\n",
        "    if n == 2:\n",
        "        return True\n",
        "    # Check if the number is even, which means it's not prime\n",
        "    if n % 2 == 0:\n",
        "        return False\n",
        "    # Check for factors from 3 to the square root of n\n",
        "    for i in range(3, int(n**0.5) + 1, 2):\n",
        "        if n % i == 0:\n",
        "            return False\n",
        "    return True\n",
        "\n",
        "# Test the function\n",
        "number = int(input(\"Enter a number: \"))\n",
        "if is_prime(number):\n",
        "    print(f\"{number} is a prime number.\")\n",
        "else:\n",
        "    print(f\"{number} is not a prime number.\")\n"
      ]
    },
    {
      "cell_type": "markdown",
      "source": [
        "**Initial Checks:** Numbers less than or equal to 1 are not prime.The number 2 is prime.even numbers greater than 2 are not prime.\n",
        "\n",
        "**Checking for Factors:** For numbers greater than 2, we check divisibility by odd numbers from 3 up to the square root of the number. If any number divides n evenly, n is not prime.\n",
        "\n",
        "**Function Call:**The program reads a number from the user and calls the is_prime function to check its primality. It then prints whether the number is prime or not."
      ],
      "metadata": {
        "id": "4MfXo7FAmplz"
      }
    },
    {
      "cell_type": "code",
      "source": [],
      "metadata": {
        "id": "EQkaVjcVmv2q"
      },
      "execution_count": null,
      "outputs": []
    }
  ]
}