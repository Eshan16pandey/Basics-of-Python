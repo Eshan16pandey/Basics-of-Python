{
  "nbformat": 4,
  "nbformat_minor": 0,
  "metadata": {
    "colab": {
      "provenance": []
    },
    "kernelspec": {
      "name": "python3",
      "display_name": "Python 3"
    },
    "language_info": {
      "name": "python"
    }
  },
  "cells": [
    {
      "cell_type": "code",
      "execution_count": 2,
      "metadata": {
        "colab": {
          "base_uri": "https://localhost:8080/"
        },
        "id": "-YidQYZEnyCc",
        "outputId": "90602e29-7eca-4095-daf0-2d39c8744be1"
      },
      "outputs": [
        {
          "output_type": "stream",
          "name": "stdout",
          "text": [
            "What is the product of 7 and 10? 70\n",
            "Correct! Well done.\n"
          ]
        }
      ],
      "source": [
        "import random # importing the random Module\n",
        "\n",
        "def main():\n",
        "    # Generate two random numbers between 1 and 10\n",
        "    num1 = random.randint(1, 10)\n",
        "    num2 = random.randint(1, 10)\n",
        "\n",
        "    # Calculate the product of the two numbers\n",
        "    correct_product = num1 * num2\n",
        "\n",
        "    # Ask the user to enter the product\n",
        "    user_input = int(input(f\"What is the product of {num1} and {num2}? \"))\n",
        "\n",
        "    # Check if the user's answer is correct\n",
        "    if user_input == correct_product:\n",
        "        print(\"Correct! Well done.\")\n",
        "    else:\n",
        "        print(f\"Incorrect. The correct answer is {correct_product}.\")\n",
        "\n",
        "if __name__ == \"__main__\":\n",
        "    main()\n"
      ]
    },
    {
      "cell_type": "code",
      "source": [],
      "metadata": {
        "id": "V7GM9DjMnzBK"
      },
      "execution_count": 2,
      "outputs": []
    }
  ]
}